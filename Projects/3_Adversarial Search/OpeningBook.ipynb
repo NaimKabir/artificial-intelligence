{
 "cells": [
  {
   "cell_type": "code",
   "execution_count": 552,
   "metadata": {},
   "outputs": [
    {
     "name": "stdout",
     "output_type": "stream",
     "text": [
      "The blackcellmagic extension is already loaded. To reload it, use:\n",
      "  %reload_ext blackcellmagic\n"
     ]
    }
   ],
   "source": [
    "%load_ext blackcellmagic\n",
    "\n",
    "from isolation import Isolation, DebugState\n",
    "from my_custom_player import MAX_BOOK_LEVEL\n",
    "import itertools\n",
    "import random\n",
    "\n",
    "WIDTH = 11\n",
    "PADDED_WIDTH = WIDTH + 2 # Adjusting for our soft bitmap border\n",
    "HEIGHT = 9"
   ]
  },
  {
   "cell_type": "markdown",
   "metadata": {},
   "source": [
    "## Populate Opening Book\n",
    "\n",
    "**Goal:** have a quick-to-use playbook that allows our agent to select a set of opening moves.\n",
    "\n",
    "**Approach:** I''ll probabalistically sample random depth-first-searches given particular starting moves, finding the win-loss ratios at each. These ratios can then be used by an agent to select a set of opening moves that (usually) win. According to [theory on board-filling games](https://link.springer.com/chapter/10.1007%2F978-3-642-31866-5_22), randomly rolling out games and using win-loss ratios as a heuristic asyptotically approaches optimal MiniMax as you sample more games.\n",
    "\n",
    "We are collecting possible positions in the first `MAX_BOOK_LEVEL` levels of the game after a first choice is made."
   ]
  },
  {
   "cell_type": "code",
   "execution_count": 548,
   "metadata": {},
   "outputs": [
    {
     "name": "stdout",
     "output_type": "stream",
     "text": [
      "MAX_BOOK_LEVEL is  5\n"
     ]
    }
   ],
   "source": [
    "print(\"MAX_BOOK_LEVEL is \", MAX_BOOK_LEVEL)"
   ]
  },
  {
   "cell_type": "code",
   "execution_count": 549,
   "metadata": {},
   "outputs": [],
   "source": [
    "BOOK = {}"
   ]
  },
  {
   "cell_type": "markdown",
   "metadata": {},
   "source": [
    "It's possible to sample only from a limited starting set, and take advantage of symmetry to infer what the combinations would be given a different starting position.\n",
    "\n",
    "We will use the bottom-right portion of the board as the canoncial \"starting quadrant\".\n",
    "\n",
    "![alt text](img/911symmetries.png)\n"
   ]
  },
  {
   "cell_type": "code",
   "execution_count": 547,
   "metadata": {},
   "outputs": [],
   "source": [
    "def xy2ind(x, y):\n",
    "    \"\"\"\n",
    "    Return a bitboard index for an x,y pair, where the (0,0) coordinate is bottom-right\n",
    "    and values increase to the left and upward.\n",
    "    \"\"\"\n",
    "    return PADDED_WIDTH * y + x\n",
    "\n",
    "\n",
    "# Calculate the minimum set of positions we need to capture data\n",
    "# that is generalizable via symmetry\n",
    "starting_set = [xy2ind(x, y) for x, y in itertools.product(range(6), range(5))]"
   ]
  },
  {
   "cell_type": "markdown",
   "metadata": {},
   "source": [
    "Given this starting set of points, we'll initialize a book with all possible paths through `MAX_BOOK_LEVEL` plies."
   ]
  },
  {
   "cell_type": "code",
   "execution_count": 157,
   "metadata": {},
   "outputs": [],
   "source": [
    "# Calculate the second set of positions possible given the starting set of positions\n",
    "def get_next_positions(action):\n",
    "    game = Isolation()\n",
    "    game = game.result(action)\n",
    "    game.player = lambda: 0\n",
    "\n",
    "    next_positions = []\n",
    "    for action in game.actions():\n",
    "        res = game.result(action)\n",
    "        next_positions.append(res.locs[0])\n",
    "\n",
    "    return next_positions\n",
    "\n",
    "\n",
    "def expand_path(path):\n",
    "    \"\"\"\n",
    "    Expand a path by returning the next set of viable moves,\n",
    "    where 'path' is a tuple of p1 and p2 positions: (p1_position, p2_position, p1_position, ...)\n",
    "    \n",
    "    Returns a list of expanded paths.\n",
    "    \"\"\"\n",
    "    assert (\n",
    "        len(path) >= 2\n",
    "    ), \"Can only expand paths with where there are at least 2 arbitrary moves chosen\"\n",
    "    next_positions = get_next_positions(\n",
    "        path[-2]\n",
    "    )  # next move depends on what move was tried before, which was 2-back\n",
    "\n",
    "    return [\n",
    "        tuple(list(path) + [next_position])\n",
    "        for next_position in next_positions\n",
    "        if next_position not in path # ensure we never occupy a discarded square\n",
    "    ]\n",
    "\n",
    "\n",
    "def get_canonical_book(starting_set, level=3):\n",
    "    assert level % 2 == 1, \"Only odd levels are useful for player 1!\"\n",
    "    assert level >= 3, \"We must create a book with more than 3 levels to be useful.\"\n",
    "\n",
    "    p2_starting_set = (\n",
    "        Isolation().actions()\n",
    "    )  # player 2 can take any free position (that hasn't been occupied)\n",
    "    book = {}\n",
    "\n",
    "    element = {\"wins\": 0, \"losses\": 0}\n",
    "\n",
    "    # Seed book with starting sets.\n",
    "    # The book's keys are action paths through: (p1_position, p2_position, p1_position, ...) etc.\n",
    "    book.update({(x,): element.copy() for x in starting_set})\n",
    "    book.update(\n",
    "        {\n",
    "            (x, y): element.copy()\n",
    "            for x, y in itertools.product(starting_set, p2_starting_set)\n",
    "            if x != y\n",
    "        }\n",
    "    )  # level 2\n",
    "\n",
    "    for level in range(3, level + 1):\n",
    "        last_level_keys = [k for k in book.keys() if len(k) == level - 1]\n",
    "\n",
    "        # For each key, expand it with the next set of possible moves.\n",
    "        key_expansions = [expand_path(path) for path in last_level_keys]\n",
    "        key_expansions = [path for paths in key_expansions for path in paths]  # flatten\n",
    "\n",
    "        book.update({path: element.copy() for path in key_expansions})\n",
    "\n",
    "    return book"
   ]
  },
  {
   "cell_type": "code",
   "execution_count": 542,
   "metadata": {},
   "outputs": [],
   "source": [
    "BOOK = get_canonical_book(starting_set, MAX_BOOK_LEVEL)"
   ]
  },
  {
   "cell_type": "code",
   "execution_count": 543,
   "metadata": {},
   "outputs": [
    {
     "name": "stdout",
     "output_type": "stream",
     "text": [
      "Book contains 644292 keys.\n"
     ]
    }
   ],
   "source": [
    "print(f\"Book contains {len(BOOK)} keys.\")"
   ]
  },
  {
   "cell_type": "markdown",
   "metadata": {},
   "source": [
    "## Simulation\n",
    "\n",
    "Given a book with keys that contain all possible paths through the first `MAX_BOOK_LEVELS` plies of the game, we need count wins and losses for each book.\n",
    "\n",
    "This is done via simulation--where we try random moves until reaching a terminal state, attributing a win or a loss to the first 5 moves. To keep things simple, we only calculate wins and losses from the perspective of the starting player.\n",
    "\n",
    "The book is quite giant, and we need enough trials to get at least 100 or so samples for each combination of starter moves. This means lots and lots of simulation."
   ]
  },
  {
   "cell_type": "code",
   "execution_count": 551,
   "metadata": {},
   "outputs": [],
   "source": [
    "from multiprocessing import Pool\n",
    "\n",
    "# Simulate and count wins vs losses\n",
    "\n",
    "def simulate(sims):\n",
    "    book = BOOK.copy()\n",
    "    for sim in range(sims):\n",
    "        game = Isolation()\n",
    "\n",
    "        action = random.choice(starting_set)\n",
    "        positions = [action] # the first 'action' is a position on the board\n",
    "        \n",
    "        game = game.result(action)\n",
    "\n",
    "        # Random choices until terminal state\n",
    "        while not game.terminal_test():\n",
    "            action = random.choice(game.actions())\n",
    "            active_player = game.player()\n",
    "            game = game.result(action)\n",
    "            \n",
    "            if len(positions) < MAX_BOOK_LEVEL:\n",
    "                positions.append(game.locs[active_player])\n",
    "\n",
    "        win = game.utility(0) == float(\"inf\")\n",
    "\n",
    "        for terminal_idx in range(1, MAX_BOOK_LEVEL + 1):\n",
    "            key = tuple(positions[0:terminal_idx])\n",
    "            if win:\n",
    "                book[key][\"wins\"] += 1\n",
    "            else:\n",
    "                book[key][\"losses\"] += 1\n",
    "    \n",
    "    return book"
   ]
  },
  {
   "cell_type": "code",
   "execution_count": 198,
   "metadata": {},
   "outputs": [
    {
     "name": "stdout",
     "output_type": "stream",
     "text": [
      "CPU times: user 23.7 s, sys: 9.81 s, total: 33.5 s\n",
      "Wall time: 13h 10min 10s\n"
     ]
    }
   ],
   "source": [
    "with Pool(processes=7) as pool:\n",
    "    %time books = pool.map(simulate, [int(1e7)]*7)"
   ]
  },
  {
   "cell_type": "code",
   "execution_count": null,
   "metadata": {},
   "outputs": [
    {
     "name": "stdout",
     "output_type": "stream",
     "text": [
      "CPU times: user 4.23 s, sys: 568 ms, total: 4.8 s\n",
      "Wall time: 5.12 s\n"
     ]
    }
   ],
   "source": [
    "# Reduce step\n",
    "from functools import reduce\n",
    "\n",
    "def reduce_book(main_book, marginal_book):\n",
    "    for k,v in marginal_book.items():\n",
    "        main_book[k][\"wins\"] += v[\"wins\"]\n",
    "        main_book[k][\"losses\"] += v[\"losses\"]\n",
    "    \n",
    "    return main_book\n",
    "\n",
    "%time resulting_book = reduce(reduce_book, [BOOK.copy(), resulting_book] + books)"
   ]
  },
  {
   "cell_type": "markdown",
   "metadata": {},
   "source": [
    "This work is long and tedious. I broke it up into multiple runs and versioned each resulting book, in case I made any mistakes somewhere down the line during my manual process."
   ]
  },
  {
   "cell_type": "code",
   "execution_count": null,
   "metadata": {},
   "outputs": [],
   "source": [
    "import pickle\n",
    "import os\n",
    "\n",
    "def save_book(version):\n",
    "    filename = f\"data/book_{version}.pkl\"\n",
    "    assert not os.path.exists(filename), \"Don't overwrite your file!\"\n",
    "    with open(filename, 'wb') as f:\n",
    "        pickle.dump(resulting_book, f)\n",
    "        \n",
    "save_book(10)"
   ]
  },
  {
   "cell_type": "markdown",
   "metadata": {},
   "source": [
    "## Calculate win/loss ratios for each path\n",
    "\n",
    "To have a usable data structure for an agent, we finally save a simple flat map of all possible paths (starting from our starting quadrant) to its win/loss ratio, so the agent can intelligently minimize or maximize.\n",
    "\n",
    "Paths not starting in a starting quadrant can be transformed into paths that **do** using logic inside `transform.py`."
   ]
  },
  {
   "cell_type": "code",
   "execution_count": 450,
   "metadata": {},
   "outputs": [],
   "source": [
    "with open('data/book_10.pkl', 'rb') as f:\n",
    "    full_book = pickle.load(f)"
   ]
  },
  {
   "cell_type": "code",
   "execution_count": 452,
   "metadata": {},
   "outputs": [],
   "source": [
    "full_book = {k: v[\"wins\"] / (v[\"wins\"] + v[\"losses\"] + 1e-6) for k,v in full_book.items()}"
   ]
  },
  {
   "cell_type": "code",
   "execution_count": 521,
   "metadata": {},
   "outputs": [],
   "source": [
    "def save_ratio_book(book, version):\n",
    "    filename = f\"data.pickle\"\n",
    "    assert not os.path.exists(filename), \"Don't overwrite your file!\"\n",
    "    with open(filename, 'wb') as f:\n",
    "        pickle.dump(book, f)\n",
    "        \n",
    "save_ratio_book(full_book, 0)"
   ]
  },
  {
   "cell_type": "markdown",
   "metadata": {},
   "source": [
    "## Insights\n",
    "\n",
    "Based on results from the book, we can make certain insights about every level of the tree. At the first level:"
   ]
  },
  {
   "cell_type": "code",
   "execution_count": 557,
   "metadata": {},
   "outputs": [],
   "source": [
    "ply_1_book = {k:v for k,v in full_book.items() if len(k) == 1}"
   ]
  },
  {
   "cell_type": "code",
   "execution_count": 571,
   "metadata": {},
   "outputs": [
    {
     "data": {
      "image/png": "[encoded data removed]",
      "text/plain": [
       "<Figure size 432x288 with 2 Axes>"
      ]
     },
     "metadata": {
      "needs_background": "light"
     },
     "output_type": "display_data"
    }
   ],
   "source": [
    "import numpy as np\n",
    "import seaborn as sns\n",
    "\n",
    "def display_grid(grid, ply_book, path_idx):\n",
    "    for ind in ply_book.keys():\n",
    "        x, y = DebugState.ind2xy(ind[path_idx])\n",
    "        grid[y, x] = ply_book[ind]\n",
    "    sns.heatmap(grid)\n",
    "\n",
    "# Display the win-ratio grid for a starter move\n",
    "grid = np.zeros([5, 6])\n",
    "display_grid(grid, ply_1_book, 0)"
   ]
  },
  {
   "cell_type": "markdown",
   "metadata": {},
   "source": [
    "These results are for just one quadrant (the upper right, in this case), but can be superimposed on any quadrant of the board if flipped and rotated appropriately.\n",
    "\n",
    "Surprisingly the most favorable place to begin is in a corner, or close to the center along the central crossbar.\n",
    "\n",
    "If chosen, the second player has the following options:"
   ]
  },
  {
   "cell_type": "code",
   "execution_count": 573,
   "metadata": {},
   "outputs": [
    {
     "data": {
      "image/png": "[encoded data removed]",
      "text/plain": [
       "<Figure size 432x288 with 2 Axes>"
      ]
     },
     "metadata": {
      "needs_background": "light"
     },
     "output_type": "display_data"
    }
   ],
   "source": [
    "ply_2_book = {k:v for k,v in full_book.items() if len(k) == 2 and k[0] == 0}\n",
    "grid_2 = np.zeros([HEIGHT, WIDTH])\n",
    "\n",
    "display_grid(grid_2, ply_2_book, 1)"
   ]
  },
  {
   "cell_type": "markdown",
   "metadata": {},
   "source": [
    "A gridlike pattern emerges, where any placement upon that grid is favorable (in this case, the lower ratios).\n"
   ]
  },
  {
   "cell_type": "markdown",
   "metadata": {},
   "source": [
    "## Results\n",
    "\n",
    "I ran multiple rounds at many depth-limit settings, artificially constraining how deep my MiniMax agent could traverse the tree before ceasing a search. The heuristic was the familiar $Liberties_{my} - Liberties_{opponent}$ from the lectures.\n",
    "\n",
    "Each row is the result of 100 trials between my Custom Agent and the Greedy Agent. In cases where the Book was used, the Book's values for particular paths through the tree were used to inform the heuristic score if decisions were being made at a ply the Book had values for. In the corresponding Baseline case, these choices were made at random. In both cases, for plies beyond what was covered by the book, both conditions allowed agents to simply do Minimax using our selected heuristic.\n",
    "\n",
    "**Raw Data**\n",
    "\n",
    "| Depth Limit  | With Book  | Baseline   | \n",
    "|---|---|---|\n",
    "| 1  | 50% | 24%  |\n",
    "| 2  | 50%  |  30% |\n",
    "| 3  |  0%<super>*</super> | 34%  | \n",
    "| 4 |   49%   |  37%   |\n",
    "| 5 | 50% | 37% |\n",
    "| 6 | 37% | 39% |\n",
    "| 7 |   50%  |  44%  |\n",
    "| 8 |  47%  |  47%  |\n",
    "| 9 |  49%  |  48%  |\n",
    "| 10 | 50% | 45%   | \n",
    "| $\\infty$ | 47%  |  43.0%  |\n",
    "\n",
    "**Interpretation**\n",
    "\n",
    "The Book is mainly an asset in games where there is little time to make decisions. When we artificially limit depth to mimic timeout conditions, an agent with book access performs far better than the Baseline case.\n",
    "\n",
    "As we allow deeper Minimax traversals, even agents with completely random opening moves seem able to recover and match pace with Book agents.\n",
    "\n",
    "<super>*</super> This was a surprising case that suggests some mistraining of the book. It needs further debugging."
   ]
  },
  {
   "cell_type": "code",
   "execution_count": null,
   "metadata": {},
   "outputs": [],
   "source": []
  }
 ],
 "metadata": {
  "kernelspec": {
   "display_name": "Python 3",
   "language": "python",
   "name": "python3"
  },
  "language_info": {
   "codemirror_mode": {
    "name": "ipython",
    "version": 3
   },
   "file_extension": ".py",
   "mimetype": "text/x-python",
   "name": "python",
   "nbconvert_exporter": "python",
   "pygments_lexer": "ipython3",
   "version": "3.7.6"
  }
 },
 "nbformat": 4,
 "nbformat_minor": 4
}
