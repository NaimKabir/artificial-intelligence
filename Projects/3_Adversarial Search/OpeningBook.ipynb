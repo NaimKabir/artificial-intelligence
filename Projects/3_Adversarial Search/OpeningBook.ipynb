{
 "cells": [
  {
   "cell_type": "code",
   "execution_count": 468,
   "metadata": {},
   "outputs": [
    {
     "name": "stdout",
     "output_type": "stream",
     "text": [
      "The blackcellmagic extension is already loaded. To reload it, use:\n",
      "  %reload_ext blackcellmagic\n"
     ]
    },
    {
     "ename": "SyntaxError",
     "evalue": "invalid syntax (my_custom_player.py, line 128)",
     "output_type": "error",
     "traceback": [
      "Traceback \u001b[0;36m(most recent call last)\u001b[0m:\n",
      "  File \u001b[1;32m\"/Users/kabir/opt/anaconda3/lib/python3.7/site-packages/IPython/core/interactiveshell.py\"\u001b[0m, line \u001b[1;32m3331\u001b[0m, in \u001b[1;35mrun_code\u001b[0m\n    exec(code_obj, self.user_global_ns, self.user_ns)\n",
      "\u001b[0;36m  File \u001b[0;32m\"<ipython-input-468-1eec36fc175a>\"\u001b[0;36m, line \u001b[0;32m4\u001b[0;36m, in \u001b[0;35m<module>\u001b[0;36m\u001b[0m\n\u001b[0;31m    from my_custom_player import MAX_BOOK_LEVEL\u001b[0m\n",
      "\u001b[0;36m  File \u001b[0;32m\"/Users/kabir/devel/artificial-intelligence/Projects/3_Adversarial Search/my_custom_player.py\"\u001b[0;36m, line \u001b[0;32m128\u001b[0m\n\u001b[0;31m    if gameState.ply_count <=\u001b[0m\n\u001b[0m                             ^\u001b[0m\n\u001b[0;31mSyntaxError\u001b[0m\u001b[0;31m:\u001b[0m invalid syntax\n"
     ]
    }
   ],
   "source": [
    "%load_ext blackcellmagic\n",
    "\n",
    "from isolation import Isolation, DebugState\n",
    "from my_custom_player import MAX_BOOK_LEVEL\n",
    "import itertools\n",
    "import random\n",
    "\n",
    "WIDTH = 11\n",
    "PADDED_WIDTH = WIDTH + 2 # Adjusting for our soft bitmap border\n",
    "HEIGHT = 9"
   ]
  },
  {
   "cell_type": "code",
   "execution_count": 113,
   "metadata": {},
   "outputs": [],
   "source": [
    "# Will probabalistically sample random depth-searches, finding average utility at each.\n",
    "# We are collecting possible positions in the first three levels of the game after a first choice is made.\n",
    "\n",
    "BOOK = {}"
   ]
  },
  {
   "cell_type": "markdown",
   "metadata": {},
   "source": [
    "Now it's possible to sample only from a limited starting set, and take advantage of symmetry to infer what the combinations would be given a different starting position.\n",
    "\n",
    "We will use the bottom-right portion of the board as the canoncial \"starting quadrant\".\n",
    "\n",
    "![alt text](img/911symmetries.png)\n"
   ]
  },
  {
   "cell_type": "code",
   "execution_count": 357,
   "metadata": {},
   "outputs": [],
   "source": [
    "def xy2ind(x, y):\n",
    "    \"\"\"\n",
    "    Return a bitboard index for an x,y pair, where the (0,0) coordinate is bottom-right\n",
    "    and values increase to the left and upward.\n",
    "    \"\"\"\n",
    "    return PADDED_WIDTH * y + x\n",
    "\n",
    "\n",
    "# Calculate the minimum set of positions we need to capture data\n",
    "# that is generalizable via symmetry\n",
    "starting_set = [xy2ind(x, y) for x, y in itertools.product(range(6), range(5))]\n",
    "\n",
    "# Calculate the second set of positions possible given the starting set of positions\n",
    "def get_next_positions(action):\n",
    "    game = Isolation()\n",
    "    game = game.result(action)\n",
    "    game.player = lambda: 0\n",
    "\n",
    "    next_positions = []\n",
    "    for action in game.actions():\n",
    "        res = game.result(action)\n",
    "        next_positions.append(res.locs[0])\n",
    "\n",
    "    return next_positions\n",
    "\n",
    "\n"
   ]
  },
  {
   "cell_type": "code",
   "execution_count": 157,
   "metadata": {},
   "outputs": [],
   "source": [
    "def expand_path(path):\n",
    "    \"\"\"\n",
    "    Expand a path by returning the next set of viable moves,\n",
    "    where 'path' is a tuple of p1 and p2 positions: (p1_position, p2_position, p1_position, ...)\n",
    "    \n",
    "    Returns a list of expanded paths.\n",
    "    \"\"\"\n",
    "    assert (\n",
    "        len(path) >= 2\n",
    "    ), \"Can only expand paths with where there are at least 2 arbitrary moves chosen\"\n",
    "    next_positions = get_next_positions(\n",
    "        path[-2]\n",
    "    )  # next move depends on what move was tried before, which was 2-back\n",
    "\n",
    "    return [\n",
    "        tuple(list(path) + [next_position])\n",
    "        for next_position in next_positions\n",
    "        if next_position not in path # ensure we never occupy a discarded square\n",
    "    ]\n",
    "\n",
    "\n",
    "def get_canonical_book(starting_set, level=3):\n",
    "    assert level % 2 == 1, \"Only odd levels are useful for player 1!\"\n",
    "    assert level >= 3, \"We must create a book with more than 3 levels to be useful.\"\n",
    "\n",
    "    p2_starting_set = (\n",
    "        Isolation().actions()\n",
    "    )  # player 2 can take any free position (that hasn't been occupied)\n",
    "    book = {}\n",
    "\n",
    "    element = {\"wins\": 0, \"losses\": 0}\n",
    "\n",
    "    # Seed book with starting sets.\n",
    "    # The book's keys are action paths through: (p1_position, p2_position, p1_position, ...) etc.\n",
    "    book.update({(x,): element.copy() for x in starting_set})\n",
    "    book.update(\n",
    "        {\n",
    "            (x, y): element.copy()\n",
    "            for x, y in itertools.product(starting_set, p2_starting_set)\n",
    "            if x != y\n",
    "        }\n",
    "    )  # level 2\n",
    "\n",
    "    for level in range(3, level + 1):\n",
    "        last_level_keys = [k for k in book.keys() if len(k) == level - 1]\n",
    "\n",
    "        # For each key, expand it with the next set of possible moves.\n",
    "        key_expansions = [expand_path(path) for path in last_level_keys]\n",
    "        key_expansions = [path for paths in key_expansions for path in paths]  # flatten\n",
    "\n",
    "        book.update({path: element.copy() for path in key_expansions})\n",
    "\n",
    "    return book"
   ]
  },
  {
   "cell_type": "code",
   "execution_count": 163,
   "metadata": {},
   "outputs": [],
   "source": [
    "BOOK = get_canonical_book(starting_set, MAX_BOOK_LEVEL)"
   ]
  },
  {
   "cell_type": "code",
   "execution_count": 164,
   "metadata": {},
   "outputs": [
    {
     "name": "stdout",
     "output_type": "stream",
     "text": [
      "Book contains 644292 keys.\n"
     ]
    }
   ],
   "source": [
    "print(f\"Book contains {len(BOOK)} keys.\")"
   ]
  },
  {
   "cell_type": "code",
   "execution_count": 165,
   "metadata": {},
   "outputs": [],
   "source": [
    "from multiprocessing import Pool\n",
    "\n",
    "# Simulate and count wins vs losses\n",
    "\n",
    "def simulate(sims):\n",
    "    book = BOOK.copy()\n",
    "    for sim in range(sims):\n",
    "        game = Isolation()\n",
    "\n",
    "        action = random.choice(starting_set)\n",
    "        positions = [action] # the first 'action' is a position on the board\n",
    "        \n",
    "        game = game.result(action)\n",
    "\n",
    "        # Random choices until terminal state\n",
    "        while not game.terminal_test():\n",
    "            action = random.choice(game.actions())\n",
    "            active_player = game.player()\n",
    "            game = game.result(action)\n",
    "            \n",
    "            if len(positions) < MAX_BOOK_LEVEL:\n",
    "                positions.append(game.locs[active_player])\n",
    "\n",
    "        win = game.utility(0) == float(\"inf\")\n",
    "\n",
    "        for terminal_idx in range(1, MAX_BOOK_LEVEL + 1):\n",
    "            key = tuple(positions[0:terminal_idx])\n",
    "            if win:\n",
    "                book[key][\"wins\"] += 1\n",
    "            else:\n",
    "                book[key][\"losses\"] += 1\n",
    "    \n",
    "    return book"
   ]
  },
  {
   "cell_type": "code",
   "execution_count": 198,
   "metadata": {},
   "outputs": [
    {
     "name": "stdout",
     "output_type": "stream",
     "text": [
      "CPU times: user 23.7 s, sys: 9.81 s, total: 33.5 s\n",
      "Wall time: 13h 10min 10s\n"
     ]
    }
   ],
   "source": [
    "with Pool(processes=7) as pool:\n",
    "    %time books = pool.map(simulate, [int(1e7)]*7)"
   ]
  },
  {
   "cell_type": "code",
   "execution_count": null,
   "metadata": {},
   "outputs": [
    {
     "name": "stdout",
     "output_type": "stream",
     "text": [
      "CPU times: user 4.23 s, sys: 568 ms, total: 4.8 s\n",
      "Wall time: 5.12 s\n"
     ]
    }
   ],
   "source": [
    "# Reduce step\n",
    "from functools import reduce\n",
    "\n",
    "def reduce_book(main_book, marginal_book):\n",
    "    for k,v in marginal_book.items():\n",
    "        main_book[k][\"wins\"] += v[\"wins\"]\n",
    "        main_book[k][\"losses\"] += v[\"losses\"]\n",
    "    \n",
    "    return main_book\n",
    "\n",
    "%time resulting_book = reduce(reduce_book, [BOOK, resulting_book] + books)"
   ]
  },
  {
   "cell_type": "code",
   "execution_count": null,
   "metadata": {},
   "outputs": [],
   "source": [
    "import pickle\n",
    "import os\n",
    "\n",
    "def save_book(version):\n",
    "    filename = f\"data/book_{version}.pkl\"\n",
    "    assert not os.path.exists(filename), \"Don't overwrite your file!\"\n",
    "    with open(filename, 'wb') as f:\n",
    "        pickle.dump(resulting_book, f)\n",
    "        \n",
    "save_book(10)"
   ]
  },
  {
   "cell_type": "markdown",
   "metadata": {},
   "source": [
    "## Calculate win/loss ratios for each path\n",
    "\n",
    "And for all transformations of paths, to have full coverage of all paths."
   ]
  },
  {
   "cell_type": "code",
   "execution_count": 450,
   "metadata": {},
   "outputs": [],
   "source": [
    "with open('data/book_10.pkl', 'rb') as f:\n",
    "    full_book = pickle.load(f)"
   ]
  },
  {
   "cell_type": "code",
   "execution_count": 452,
   "metadata": {},
   "outputs": [],
   "source": [
    "full_book = {k: v[\"wins\"] / (v[\"wins\"] + v[\"losses\"] + 1e-6) for k,v in full_book.items()}"
   ]
  },
  {
   "cell_type": "code",
   "execution_count": 520,
   "metadata": {},
   "outputs": [],
   "source": [
    "def save_ratio_book(book, version):\n",
    "    filename = f\"data.pickle\"\n",
    "    assert not os.path.exists(filename), \"Don't overwrite your file!\"\n",
    "    with open(filename, 'wb') as f:\n",
    "        pickle.dump(book, f)\n",
    "        \n",
    "save_ratio_book(full_book, 0)"
   ]
  },
  {
   "cell_type": "code",
   "execution_count": 495,
   "metadata": {},
   "outputs": [],
   "source": [
    "current = Isolation().board ^ (1 << 99)"
   ]
  },
  {
   "cell_type": "code",
   "execution_count": 496,
   "metadata": {},
   "outputs": [],
   "source": [
    "import math\n",
    "\n",
    "diff = Isolation().board - current\n",
    "\n",
    "res = int(math.log(diff) / math.log(2)) if diff != 0 else None"
   ]
  },
  {
   "cell_type": "code",
   "execution_count": 507,
   "metadata": {},
   "outputs": [
    {
     "data": {
      "text/plain": [
       "(6, 5)"
      ]
     },
     "execution_count": 507,
     "metadata": {},
     "output_type": "execute_result"
    }
   ],
   "source": [
    "DebugState.ind2xy(71)"
   ]
  },
  {
   "cell_type": "code",
   "execution_count": 508,
   "metadata": {},
   "outputs": [],
   "source": [
    "from isolation.isolation import Action"
   ]
  },
  {
   "cell_type": "code",
   "execution_count": 510,
   "metadata": {},
   "outputs": [
    {
     "data": {
      "text/plain": [
       "<Action.ESE: -15>"
      ]
     },
     "execution_count": 510,
     "metadata": {},
     "output_type": "execute_result"
    }
   ],
   "source": [
    "Action.ESE"
   ]
  },
  {
   "cell_type": "code",
   "execution_count": 518,
   "metadata": {},
   "outputs": [],
   "source": [
    "board = reduce(lambda x,y: x ^ (1 << y), [Isolation().board] + list((71, 68, 39)))"
   ]
  },
  {
   "cell_type": "code",
   "execution_count": 519,
   "metadata": {},
   "outputs": [
    {
     "name": "stdout",
     "output_type": "stream",
     "text": [
      "\n",
      "+ - + - + - + - + - + - + - + - + - + - + - +\n",
      "|   |   |   |   |   |   |   |   |   |   |   |\n",
      "+ - + - + - + - + - + - + - + - + - + - + - +\n",
      "|   |   |   |   |   |   |   |   |   |   |   |\n",
      "+ - + - + - + - + - + - + - + - + - + - + - +\n",
      "|   |   |   |   |   |   |   |   |   |   |   |\n",
      "+ - + - + - + - + - + - + - + - + - + - + - +\n",
      "|   |   |   |   | X |   |   | X |   |   |   |\n",
      "+ - + - + - + - + - + - + - + - + - + - + - +\n",
      "|   |   |   |   |   |   |   |   |   |   |   |\n",
      "+ - + - + - + - + - + - + - + - + - + - + - +\n",
      "|   |   |   |   |   |   |   |   |   |   | X |\n",
      "+ - + - + - + - + - + - + - + - + - + - + - +\n",
      "|   |   |   |   |   |   |   |   |   |   |   |\n",
      "+ - + - + - + - + - + - + - + - + - + - + - +\n",
      "|   |   |   |   |   |   |   |   |   |   |   |\n",
      "+ - + - + - + - + - + - + - + - + - + - + - +\n",
      "|   |   |   |   |   |   |   |   |   |   |   |\n",
      "+ - + - + - + - + - + - + - + - + - + - + - +\n",
      "\n"
     ]
    }
   ],
   "source": [
    "print(DebugState.from_state(Isolation(board=board)))"
   ]
  },
  {
   "cell_type": "code",
   "execution_count": null,
   "metadata": {},
   "outputs": [],
   "source": []
  }
 ],
 "metadata": {
  "kernelspec": {
   "display_name": "Python 3",
   "language": "python",
   "name": "python3"
  },
  "language_info": {
   "codemirror_mode": {
    "name": "ipython",
    "version": 3
   },
   "file_extension": ".py",
   "mimetype": "text/x-python",
   "name": "python",
   "nbconvert_exporter": "python",
   "pygments_lexer": "ipython3",
   "version": "3.7.6"
  }
 },
 "nbformat": 4,
 "nbformat_minor": 4
}
